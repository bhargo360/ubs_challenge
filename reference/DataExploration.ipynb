{
 "cells": [
  {
   "cell_type": "markdown",
   "metadata": {},
   "source": [
    "Importing libraries"
   ]
  },
  {
   "cell_type": "code",
   "execution_count": 1,
   "metadata": {},
   "outputs": [
    {
     "name": "stdout",
     "output_type": "stream",
     "text": [
      "Hello Bhargavbhatt, welcome to Alphien!\n",
      "\n",
      "Importing your Alphien sub-packages...\n",
      "\n",
      "import alphien.data\n",
      "import alphien.portfolio\n",
      "import alphien.tutorial\n",
      "\n",
      "Importing your Qlib functions...                                   from team:\n",
      "\n",
      "No functions in Qlib teams: UBSSPEQUITY, UniliFinance, bhargavbhatt\n",
      "\n",
      "Alphien environment imported. Let's do some research now!\n"
     ]
    }
   ],
   "source": [
    "import alphien\n",
    "import datetime as dt\n",
    "import pandas as pd"
   ]
  },
  {
   "cell_type": "code",
   "execution_count": null,
   "metadata": {},
   "outputs": [],
   "source": [
    "pd.set_option('display.max_rows', 10)"
   ]
  },
  {
   "cell_type": "markdown",
   "metadata": {},
   "source": [
    "Functions"
   ]
  },
  {
   "cell_type": "code",
   "execution_count": null,
   "metadata": {},
   "outputs": [],
   "source": [
    "def print_array(array):\n",
    "    print('array size : ',array.size)\n",
    "    for i in array:\n",
    "        print(i)"
   ]
  },
  {
   "cell_type": "code",
   "execution_count": null,
   "metadata": {},
   "outputs": [],
   "source": [
    "companies_data = alphien.data.getTickersSP500()"
   ]
  },
  {
   "cell_type": "code",
   "execution_count": null,
   "metadata": {},
   "outputs": [],
   "source": [
    "companies_data.to_csv('companies_list.csv')"
   ]
  },
  {
   "cell_type": "code",
   "execution_count": null,
   "metadata": {},
   "outputs": [],
   "source": [
    "companies_data.set_index([\"industryCode\",\"industry\"]).count(level=\"industry\").sort_values(by=['ticker'])"
   ]
  },
  {
   "cell_type": "code",
   "execution_count": null,
   "metadata": {},
   "outputs": [],
   "source": [
    "industry_type = companies_data.industry.unique()\n",
    "industry_type.size"
   ]
  },
  {
   "cell_type": "code",
   "execution_count": null,
   "metadata": {},
   "outputs": [],
   "source": [
    "print_array(industry_type)"
   ]
  },
  {
   "cell_type": "code",
   "execution_count": null,
   "metadata": {},
   "outputs": [],
   "source": [
    "tkr = ['AMZN.US Equity', 'NFLX.US Equity']\n",
    "company_price = alphien.data.getHistoryData(tkr, zoom='2007::2016')\n",
    "\n",
    "ticker_all = companies_data.ticker.unique()"
   ]
  },
  {
   "cell_type": "code",
   "execution_count": null,
   "metadata": {},
   "outputs": [],
   "source": [
    "#pd.set_option('display.max_rows', 10)\n",
    "company_price"
   ]
  },
  {
   "cell_type": "code",
   "execution_count": null,
   "metadata": {},
   "outputs": [],
   "source": [
    "marketList = alphien.data.getTickersSP500Data()\n",
    "marketList"
   ]
  },
  {
   "cell_type": "code",
   "execution_count": null,
   "metadata": {},
   "outputs": [],
   "source": [
    "dataList = alphien.data.getTickersSP500Data()\n",
    "SPWIndex = alphien.data.getHistoryData(dataList.ticker.iloc[16],zoom=\"2007::2016\")"
   ]
  },
  {
   "cell_type": "code",
   "execution_count": null,
   "metadata": {},
   "outputs": [],
   "source": [
    "SPWIndex"
   ]
  },
  {
   "cell_type": "code",
   "execution_count": null,
   "metadata": {},
   "outputs": [],
   "source": [
    "combine_dataframe = pd.merge(SPWIndex,company_price,on='date',how='outer')\n",
    "combine_dataframe = combine_dataframe.apply(lambda x: x/x.loc[x.first_valid_index()])"
   ]
  },
  {
   "cell_type": "code",
   "execution_count": null,
   "metadata": {},
   "outputs": [],
   "source": [
    "combine_dataframe.plot()"
   ]
  },
  {
   "cell_type": "code",
   "execution_count": null,
   "metadata": {},
   "outputs": [],
   "source": [
    "combine_dataframe['Diff_AMZN']=combine_dataframe['AMZN.US Equity'] - combine_dataframe['SPW Index']"
   ]
  },
  {
   "cell_type": "code",
   "execution_count": null,
   "metadata": {},
   "outputs": [],
   "source": [
    "combine_dataframe"
   ]
  },
  {
   "cell_type": "code",
   "execution_count": null,
   "metadata": {},
   "outputs": [],
   "source": [
    "combine_dataframe.loc['2007-01-01':'2008-01-01']"
   ]
  },
  {
   "cell_type": "code",
   "execution_count": null,
   "metadata": {},
   "outputs": [],
   "source": [
    "combine_dataframe.loc['2007-01-01':'2008-01-01'].mean(axis = 0) "
   ]
  },
  {
   "cell_type": "code",
   "execution_count": null,
   "metadata": {},
   "outputs": [],
   "source": [
    "test = combine_dataframe.loc['2007-01-01':'2008-01-01'].max(axis = 0) "
   ]
  },
  {
   "cell_type": "code",
   "execution_count": null,
   "metadata": {},
   "outputs": [],
   "source": [
    "print(test)"
   ]
  },
  {
   "cell_type": "code",
   "execution_count": null,
   "metadata": {},
   "outputs": [],
   "source": [
    "combine_dataframe.loc['2007-01-01':'2008-01-01'].plot()"
   ]
  },
  {
   "cell_type": "code",
   "execution_count": null,
   "metadata": {},
   "outputs": [],
   "source": [
    "df = pd.DataFrame(columns = ['Ticker', 'StarYear','EndYear','Mean','Max_Difference','SPW_Mean'])"
   ]
  },
  {
   "cell_type": "code",
   "execution_count": null,
   "metadata": {},
   "outputs": [],
   "source": []
  },
  {
   "cell_type": "code",
   "execution_count": null,
   "metadata": {},
   "outputs": [],
   "source": [
    "df"
   ]
  },
  {
   "cell_type": "code",
   "execution_count": null,
   "metadata": {},
   "outputs": [],
   "source": [
    "def get_yearly_data(ticker,start_year,end_year):\n",
    "    company_price = alphien.data.getHistoryData(ticker, zoom='2007::2016')\n",
    "    combine_dataframe = pd.merge(SPWIndex,company_price,on='date',how='outer')\n",
    "    combine_dataframe = combine_dataframe.apply(lambda x: x/x.loc[x.first_valid_index()])\n",
    "    start_date=str(start_year)+'-01-01'\n",
    "    end_date=str(end_year)+'-12-31'\n",
    "    filter_data = combine_dataframe.loc[start_date:end_date]\n",
    "    filter_data.plot()\n",
    "    s1 = 'Diff_'+ str(ticker)\n",
    "    filter_data[s1]=combine_dataframe[ticker] - combine_dataframe['SPW Index']\n",
    "    print(filter_data.mean(axis=0))\n",
    "    print(filter_data.max(axis=0))\n",
    "    print(filter_data.min(axis=0))\n",
    "    mean_value=filter_data.mean(axis=0)[ticker]\n",
    "    max_diff=filter_data.max(axis=0)[s1]\n",
    "    SPW_Mean=filter_data.mean(axis=0)['SPW Index']\n",
    "    print(mean_value,max_diff,SPW_Mean)\n",
    "    print(filter_data)\n",
    "    #Adding values to dataframe\n",
    "    #df1 = pd.DataFrame([[ticker,start_year,end_year,mean_value,max_diff,SPW_Mean]],columns= ['Ticker', 'StarYear','EndYear','Mean','Max_Difference','SPW_Mean'])\n"
   ]
  },
  {
   "cell_type": "code",
   "execution_count": null,
   "metadata": {},
   "outputs": [],
   "source": [
    "get_yearly_data('RIG.US Equity',2007,2016)"
   ]
  },
  {
   "cell_type": "code",
   "execution_count": null,
   "metadata": {},
   "outputs": [],
   "source": [
    "for t in ticker_all:\n",
    "    df2 = get_yearly_data(t,2007,2016)\n",
    "    df = df.append(df2)"
   ]
  },
  {
   "cell_type": "code",
   "execution_count": null,
   "metadata": {},
   "outputs": [],
   "source": [
    "df['diff']=df['Mean']-df['SPW_Mean']"
   ]
  },
  {
   "cell_type": "code",
   "execution_count": null,
   "metadata": {},
   "outputs": [],
   "source": [
    "df3 = df.sort_values(by=['diff'], ascending=False)"
   ]
  },
  {
   "cell_type": "code",
   "execution_count": null,
   "metadata": {},
   "outputs": [],
   "source": [
    "df3"
   ]
  },
  {
   "cell_type": "code",
   "execution_count": null,
   "metadata": {},
   "outputs": [],
   "source": [
    "df3.to_csv('sortedMean.csv')"
   ]
  },
  {
   "cell_type": "code",
   "execution_count": null,
   "metadata": {},
   "outputs": [],
   "source": [
    "!pip install openpyxl"
   ]
  },
  {
   "cell_type": "code",
   "execution_count": null,
   "metadata": {},
   "outputs": [],
   "source": [
    "alphien.data.getHistoryData('RIG.US Equity',zoom=\"2007::2016\")"
   ]
  },
  {
   "cell_type": "code",
   "execution_count": null,
   "metadata": {},
   "outputs": [],
   "source": [
    "df5 = alphien.data.getHistoryData('RIG.US Equity', field = 'ohlc').head(30)"
   ]
  },
  {
   "cell_type": "code",
   "execution_count": null,
   "metadata": {},
   "outputs": [],
   "source": [
    "df5['diff_hl']=df5['high_price']-df5['low_price']"
   ]
  },
  {
   "cell_type": "code",
   "execution_count": null,
   "metadata": {},
   "outputs": [],
   "source": [
    "df5"
   ]
  },
  {
   "cell_type": "code",
   "execution_count": null,
   "metadata": {},
   "outputs": [],
   "source": [
    "df5.mean(axis=0)"
   ]
  },
  {
   "cell_type": "code",
   "execution_count": null,
   "metadata": {},
   "outputs": [],
   "source": [
    "#################################"
   ]
  },
  {
   "cell_type": "code",
   "execution_count": 5,
   "metadata": {},
   "outputs": [],
   "source": [
    "t='AMZN.US Equity'\n",
    "number_of_days=200\n",
    "number_of_days_short=50\n",
    "\n",
    "\n",
    "string_high = 'high_price'\n",
    "string_low = 'low_price'\n",
    "string_open = 'open_price'\n",
    "string_close = 'close_price'\n",
    "string_ma = t+ '.moving_avg'\n",
    "string_dailydiff = t+'.daily_diff'\n",
    "string_dailyvol = t+'.daily_vol'\n",
    "string_ma_short = t+ '.moving_avg_short'\n",
    "\n",
    "\n",
    "\n",
    "all_data = alphien.data.getHistoryData(t, field = 'ohlc') #returns the Open, High, Low, Close for all stock\n",
    "all_data\n",
    "all_data[string_ma] = all_data[string_close].rolling(window=number_of_days).mean()\n",
    "all_data[string_ma_short] = all_data[string_close].rolling(window=number_of_days_short).mean()\n",
    "all_data[string_dailydiff] = all_data[string_high] - all_data[string_low]\n",
    "all_data[string_dailyvol] = all_data[string_dailydiff].rolling(window=number_of_days).mean()    "
   ]
  },
  {
   "cell_type": "code",
   "execution_count": null,
   "metadata": {},
   "outputs": [],
   "source": [
    "all_data"
   ]
  },
  {
   "cell_type": "code",
   "execution_count": null,
   "metadata": {},
   "outputs": [],
   "source": [
    "all_data['bhargav']=0.0"
   ]
  },
  {
   "cell_type": "code",
   "execution_count": null,
   "metadata": {},
   "outputs": [],
   "source": [
    "print(SBO.iloc[SBO.index.get_loc('2016-12-30')]['High'])"
   ]
  },
  {
   "cell_type": "code",
   "execution_count": null,
   "metadata": {},
   "outputs": [],
   "source": []
  },
  {
   "cell_type": "code",
   "execution_count": null,
   "metadata": {},
   "outputs": [],
   "source": []
  },
  {
   "cell_type": "code",
   "execution_count": null,
   "metadata": {},
   "outputs": [],
   "source": [
    "for i in all_data.index:\n",
    "    index_number = all_data.index.get_loc(i)\n",
    "    if index_number < (number_of_days-1):\n",
    "        #print(index_number,'way1')\n",
    "        #print('NAN : ',all_data.iloc[index_number]['NFLX.US Equity.moving_avg'],i)\n",
    "        #print(all_data.iloc[index_number])\n",
    "        \n",
    "        v1 = 0\n",
    "        \n",
    "    elif index_number > (number_of_days-2) and index_number < ((2*number_of_days)-1):\n",
    "        #print(index_number,'way2')\n",
    "        #print(\"method 1 : \",all_data.iloc[index_number]['NFLX.US Equity.moving_avg'],i)\n",
    "        v1 = ((all_data.iloc[index_number][string_ma]-all_data.iloc[index_number-number_of_days][string_close])/all_data.iloc[index_number-number_of_days][string_close])\n",
    "        \n",
    "        #print(all_data['test'][i])\n",
    "    else :\n",
    "        #print(index_number,'way3')\n",
    "        #print(\"method 2 : \",all_data.iloc[index_number]['NFLX.US Equity.moving_avg'],i,'---',all_data.iloc[index_number-200]['NFLX.US Equity.moving_avg'])\n",
    "        v1 = ((all_data.iloc[index_number][string_ma]-all_data.iloc[index_number-number_of_days][string_ma])/all_data.iloc[index_number-number_of_days][string_ma])\n",
    "        #print(all_data['test'][i])\n",
    "    #print(v1)\n",
    "    all_data['bhargav'][index_number] = v1\n"
   ]
  },
  {
   "cell_type": "code",
   "execution_count": null,
   "metadata": {},
   "outputs": [],
   "source": [
    "all_data"
   ]
  },
  {
   "cell_type": "code",
   "execution_count": null,
   "metadata": {},
   "outputs": [],
   "source": [
    "#############################################################"
   ]
  },
  {
   "cell_type": "code",
   "execution_count": null,
   "metadata": {},
   "outputs": [],
   "source": []
  },
  {
   "cell_type": "code",
   "execution_count": 6,
   "metadata": {},
   "outputs": [],
   "source": [
    "ticker_all = ['FB.US Equity', 'AMZN.US Equity', 'NFLX.US Equity', 'GOOG.US Equity']"
   ]
  },
  {
   "cell_type": "code",
   "execution_count": 7,
   "metadata": {},
   "outputs": [],
   "source": [
    "all_data = alphien.data.getHistoryData(ticker_all, field = 'ohlc') #returns the Open, High, Low, Close for all stock"
   ]
  },
  {
   "cell_type": "code",
   "execution_count": 8,
   "metadata": {},
   "outputs": [
    {
     "name": "stdout",
     "output_type": "stream",
     "text": [
      "Starting process for ticker :  FB.US Equity\n",
      "Starting process for ticker :  AMZN.US Equity\n",
      "Starting process for ticker :  NFLX.US Equity\n",
      "Starting process for ticker :  GOOG.US Equity\n"
     ]
    }
   ],
   "source": [
    "for t in ticker_all:\n",
    "    print('Starting process for ticker : ', t)\n",
    "    string_high = t+'.high_price'\n",
    "    string_low = t+'.low_price'\n",
    "    string_open = t+'.open_price'\n",
    "    string_close = t+'.close_price'\n",
    "    string_ma = t+'.moving_avg'\n",
    "    string_ma_short = t+ '.moving_avg_short'\n",
    "    string_dailydiff = t+'.daily_diff'\n",
    "    string_dailyvol = t+'.daily_vol'\n",
    "    string_dailyvol_short = t+'.daily_vol_short'\n",
    "    string_slope_ma = t+'.slope_ma'\n",
    "    string_slope_ma_short = t+'.slope_ma_short'\n",
    "    string_trend_stability = t+'.trend_stability'\n",
    "    string_trend_strength = t+'.trend_strength'\n",
    "    string_trend_sum = t+'.trend_sum'\n",
    "    \n",
    "    all_data[string_ma] = all_data[string_close].rolling(window=number_of_days).mean()\n",
    "    all_data[string_ma_short] = all_data[string_close].rolling(window=number_of_days_short).mean()\n",
    "    all_data[string_dailydiff] = all_data[string_high] - all_data[string_low]\n",
    "    all_data[string_dailyvol] = all_data[string_dailydiff].rolling(window=number_of_days).mean()\n",
    "    all_data[string_dailyvol_short] = all_data[string_dailydiff].rolling(window=number_of_days_short).mean()\n",
    "    all_data[string_slope_ma] = 0.0\n",
    "    all_data[string_slope_ma_short] = 0.0\n",
    "    \n",
    "    \n",
    "    #Applying for loop on each rows to calculate slope ma and short slope ma\n",
    "    for i in all_data.index:\n",
    "        index_number = all_data.index.get_loc(i)\n",
    "        \n",
    "        #Calculating slope for long days ie 200 days\n",
    "        if index_number < (number_of_days-1):\n",
    "            value=0\n",
    "            \n",
    "        elif index_number > (number_of_days-2) and index_number < ((2*number_of_days)-1):\n",
    "            value = ((all_data.iloc[index_number][string_ma]-all_data.iloc[index_number-number_of_days][string_close])/all_data.iloc[index_number-number_of_days][string_close])\n",
    "        \n",
    "        else:    \n",
    "            value = ((all_data.iloc[index_number][string_ma]-all_data.iloc[index_number-number_of_days][string_ma])/all_data.iloc[index_number-number_of_days][string_ma])\n",
    "        \n",
    "        try:\n",
    "            all_data[string_slope_ma][index_number]=value\n",
    "        except:\n",
    "            all_data[string_slope_ma][index_number]=0.0\n",
    "        \n",
    "        #Calculating slope for short days ie 50\n",
    "        if index_number < (number_of_days_short-1):\n",
    "            value_short=0.0\n",
    "            \n",
    "        elif index_number > (number_of_days_short-2) and index_number < ((2*number_of_days_short)-1):\n",
    "            value_short = ((all_data.iloc[index_number][string_ma_short]-all_data.iloc[index_number-number_of_days_short][string_close])/all_data.iloc[index_number-number_of_days_short][string_close])\n",
    "        \n",
    "        else:    \n",
    "            value_short = ((all_data.iloc[index_number][string_ma_short]-all_data.iloc[index_number-number_of_days_short][string_ma_short])/all_data.iloc[index_number-number_of_days_short][string_ma_short])\n",
    "            \n",
    "        try:\n",
    "            all_data[string_slope_ma_short][index_number]=value_short\n",
    "        except:\n",
    "            all_data[string_slope_ma_short][index_number]=0.0\n",
    "        \n",
    "    #Calculating trend stability\n",
    "    all_data[string_trend_stability]=all_data[string_slope_ma]/all_data[string_dailyvol]\n",
    "        \n",
    "    #Calculating trend strength\n",
    "    all_data[string_trend_strength] = (all_data[string_slope_ma]*4)+all_data[string_slope_ma_short]\n",
    "    \n",
    "    #Calculating sum of trend stability and trend strength\n",
    "    all_data[string_trend_sum] = all_data[string_trend_stability] + all_data[string_trend_strength]    \n"
   ]
  },
  {
   "cell_type": "code",
   "execution_count": 9,
   "metadata": {},
   "outputs": [],
   "source": [
    "all_data[['FB.US Equity.trend_sum','AMZN.US Equity.trend_sum','NFLX.US Equity.trend_sum','GOOG.US Equity.trend_sum']].to_csv('test_list.csv')"
   ]
  },
  {
   "cell_type": "code",
   "execution_count": 10,
   "metadata": {},
   "outputs": [
    {
     "data": {
      "text/plain": [
       "<matplotlib.axes._subplots.AxesSubplot at 0x7f80eb3b3978>"
      ]
     },
     "execution_count": 10,
     "metadata": {},
     "output_type": "execute_result"
    },
    {
     "data": {
      "image/png": "[encoded data removed]",
      "text/plain": [
       "<Figure size 432x288 with 1 Axes>"
      ]
     },
     "metadata": {
      "needs_background": "light"
     },
     "output_type": "display_data"
    }
   ],
   "source": [
    "all_data[['FB.US Equity.slope_ma_short','AMZN.US Equity.slope_ma_short','NFLX.US Equity.slope_ma_short','GOOG.US Equity.slope_ma_short']].plot()"
   ]
  },
  {
   "cell_type": "code",
   "execution_count": 11,
   "metadata": {},
   "outputs": [
    {
     "data": {
      "text/plain": [
       "<matplotlib.axes._subplots.AxesSubplot at 0x7f80eab5bcc0>"
      ]
     },
     "execution_count": 11,
     "metadata": {},
     "output_type": "execute_result"
    },
    {
     "data": {
      "image/png": "[encoded data removed]",
      "text/plain": [
       "<Figure size 432x288 with 1 Axes>"
      ]
     },
     "metadata": {
      "needs_background": "light"
     },
     "output_type": "display_data"
    }
   ],
   "source": [
    "all_data[['FB.US Equity.close_price','AMZN.US Equity.close_price','NFLX.US Equity.close_price','GOOG.US Equity.close_price']].plot()"
   ]
  },
  {
   "cell_type": "code",
   "execution_count": 12,
   "metadata": {},
   "outputs": [
    {
     "data": {
      "text/plain": [
       "date\n",
       "2007-10-17   -4.489803\n",
       "2007-10-18   -1.121097\n",
       "2007-10-19   -0.900510\n",
       "2007-10-22   -0.794848\n",
       "2007-10-23   -0.590037\n",
       "                ...   \n",
       "2016-12-23   -1.879895\n",
       "2016-12-27   -1.842025\n",
       "2016-12-28   -1.802417\n",
       "2016-12-29   -1.772044\n",
       "2016-12-30   -1.742524\n",
       "Name: NFLX.US Equity.trend_sum, Length: 2319, dtype: float64"
      ]
     },
     "execution_count": 12,
     "metadata": {},
     "output_type": "execute_result"
    }
   ],
   "source": [
    "all_data['NFLX.US Equity.trend_sum'].dropna()"
   ]
  },
  {
   "cell_type": "code",
   "execution_count": 13,
   "metadata": {},
   "outputs": [
    {
     "data": {
      "text/html": [
       "<div>\n",
       "<style scoped>\n",
       "    .dataframe tbody tr th:only-of-type {\n",
       "        vertical-align: middle;\n",
       "    }\n",
       "\n",
       "    .dataframe tbody tr th {\n",
       "        vertical-align: top;\n",
       "    }\n",
       "\n",
       "    .dataframe thead th {\n",
       "        text-align: right;\n",
       "    }\n",
       "</style>\n",
       "<table border=\"1\" class=\"dataframe\">\n",
       "  <thead>\n",
       "    <tr style=\"text-align: right;\">\n",
       "      <th></th>\n",
       "      <th>ticker</th>\n",
       "      <th>company</th>\n",
       "      <th>constituentStart</th>\n",
       "      <th>constituentEnd</th>\n",
       "      <th>industryCode</th>\n",
       "      <th>industry</th>\n",
       "    </tr>\n",
       "    <tr>\n",
       "      <th>tablerownames</th>\n",
       "      <th></th>\n",
       "      <th></th>\n",
       "      <th></th>\n",
       "      <th></th>\n",
       "      <th></th>\n",
       "      <th></th>\n",
       "    </tr>\n",
       "  </thead>\n",
       "  <tbody>\n",
       "    <tr>\n",
       "      <th>2</th>\n",
       "      <td>A.US Equity</td>\n",
       "      <td>Agilent Technologies Inc.</td>\n",
       "      <td>2000-06-02</td>\n",
       "      <td>NaT</td>\n",
       "      <td>351010</td>\n",
       "      <td>Health Care Equipment &amp; Supplies</td>\n",
       "    </tr>\n",
       "    <tr>\n",
       "      <th>3</th>\n",
       "      <td>AA.US Equity</td>\n",
       "      <td>Alcoa Inc</td>\n",
       "      <td>1970-01-01</td>\n",
       "      <td>2016-10-31</td>\n",
       "      <td>151040</td>\n",
       "      <td>Metals &amp; Mining</td>\n",
       "    </tr>\n",
       "    <tr>\n",
       "      <th>6</th>\n",
       "      <td>AAL.US Equity</td>\n",
       "      <td>American Airlines Group Inc</td>\n",
       "      <td>2015-03-20</td>\n",
       "      <td>NaT</td>\n",
       "      <td>203020</td>\n",
       "      <td>Airlines</td>\n",
       "    </tr>\n",
       "    <tr>\n",
       "      <th>7</th>\n",
       "      <td>AAP.US Equity</td>\n",
       "      <td>Advance Auto Parts Inc</td>\n",
       "      <td>2015-07-08</td>\n",
       "      <td>NaT</td>\n",
       "      <td>255040</td>\n",
       "      <td>Specialty Retail</td>\n",
       "    </tr>\n",
       "    <tr>\n",
       "      <th>8</th>\n",
       "      <td>AAPL.US Equity</td>\n",
       "      <td>Apple Inc.</td>\n",
       "      <td>1982-11-18</td>\n",
       "      <td>NaT</td>\n",
       "      <td>452020</td>\n",
       "      <td>Computers &amp; Peripherals</td>\n",
       "    </tr>\n",
       "    <tr>\n",
       "      <th>...</th>\n",
       "      <td>...</td>\n",
       "      <td>...</td>\n",
       "      <td>...</td>\n",
       "      <td>...</td>\n",
       "      <td>...</td>\n",
       "      <td>...</td>\n",
       "    </tr>\n",
       "    <tr>\n",
       "      <th>1672</th>\n",
       "      <td>YHOO.US Equity</td>\n",
       "      <td>Yahoo! Inc</td>\n",
       "      <td>1999-12-07</td>\n",
       "      <td>2017-06-17</td>\n",
       "      <td>451010</td>\n",
       "      <td>Internet Software &amp; Services</td>\n",
       "    </tr>\n",
       "    <tr>\n",
       "      <th>1675</th>\n",
       "      <td>YUM.US Equity</td>\n",
       "      <td>Yum! Brands Inc.</td>\n",
       "      <td>1997-10-06</td>\n",
       "      <td>NaT</td>\n",
       "      <td>253010</td>\n",
       "      <td>Hotels, Restaurants &amp; Leisure</td>\n",
       "    </tr>\n",
       "    <tr>\n",
       "      <th>1678</th>\n",
       "      <td>ZBH.US Equity</td>\n",
       "      <td>Zimmer Biomet Holdings Inc</td>\n",
       "      <td>2001-08-06</td>\n",
       "      <td>NaT</td>\n",
       "      <td>351010</td>\n",
       "      <td>Health Care Equipment &amp; Supplies</td>\n",
       "    </tr>\n",
       "    <tr>\n",
       "      <th>1681</th>\n",
       "      <td>ZION.US Equity</td>\n",
       "      <td>Zions Bancorp</td>\n",
       "      <td>2001-06-22</td>\n",
       "      <td>NaT</td>\n",
       "      <td>401010</td>\n",
       "      <td>Commercial Banks</td>\n",
       "    </tr>\n",
       "    <tr>\n",
       "      <th>1683</th>\n",
       "      <td>ZTS.US Equity</td>\n",
       "      <td>Zoetis Inc</td>\n",
       "      <td>2013-06-21</td>\n",
       "      <td>NaT</td>\n",
       "      <td>352020</td>\n",
       "      <td>Pharmaceuticals</td>\n",
       "    </tr>\n",
       "  </tbody>\n",
       "</table>\n",
       "<p>677 rows × 6 columns</p>\n",
       "</div>"
      ],
      "text/plain": [
       "                       ticker                      company constituentStart  \\\n",
       "tablerownames                                                                 \n",
       "2                 A.US Equity    Agilent Technologies Inc.       2000-06-02   \n",
       "3                AA.US Equity                    Alcoa Inc       1970-01-01   \n",
       "6               AAL.US Equity  American Airlines Group Inc       2015-03-20   \n",
       "7               AAP.US Equity       Advance Auto Parts Inc       2015-07-08   \n",
       "8              AAPL.US Equity                   Apple Inc.       1982-11-18   \n",
       "...                       ...                          ...              ...   \n",
       "1672           YHOO.US Equity                   Yahoo! Inc       1999-12-07   \n",
       "1675            YUM.US Equity             Yum! Brands Inc.       1997-10-06   \n",
       "1678            ZBH.US Equity   Zimmer Biomet Holdings Inc       2001-08-06   \n",
       "1681           ZION.US Equity                Zions Bancorp       2001-06-22   \n",
       "1683            ZTS.US Equity                   Zoetis Inc       2013-06-21   \n",
       "\n",
       "              constituentEnd industryCode                          industry  \n",
       "tablerownames                                                                \n",
       "2                        NaT       351010  Health Care Equipment & Supplies  \n",
       "3                 2016-10-31       151040                   Metals & Mining  \n",
       "6                        NaT       203020                          Airlines  \n",
       "7                        NaT       255040                  Specialty Retail  \n",
       "8                        NaT       452020           Computers & Peripherals  \n",
       "...                      ...          ...                               ...  \n",
       "1672              2017-06-17       451010      Internet Software & Services  \n",
       "1675                     NaT       253010     Hotels, Restaurants & Leisure  \n",
       "1678                     NaT       351010  Health Care Equipment & Supplies  \n",
       "1681                     NaT       401010                  Commercial Banks  \n",
       "1683                     NaT       352020                   Pharmaceuticals  \n",
       "\n",
       "[677 rows x 6 columns]"
      ]
     },
     "execution_count": 13,
     "metadata": {},
     "output_type": "execute_result"
    }
   ],
   "source": [
    "companies_data = alphien.data.getTickersSP500()\n",
    "companies_data"
   ]
  },
  {
   "cell_type": "code",
   "execution_count": 14,
   "metadata": {},
   "outputs": [
    {
     "data": {
      "text/html": [
       "<div>\n",
       "<style scoped>\n",
       "    .dataframe tbody tr th:only-of-type {\n",
       "        vertical-align: middle;\n",
       "    }\n",
       "\n",
       "    .dataframe tbody tr th {\n",
       "        vertical-align: top;\n",
       "    }\n",
       "\n",
       "    .dataframe thead th {\n",
       "        text-align: right;\n",
       "    }\n",
       "</style>\n",
       "<table border=\"1\" class=\"dataframe\">\n",
       "  <thead>\n",
       "    <tr style=\"text-align: right;\">\n",
       "      <th></th>\n",
       "      <th>ticker</th>\n",
       "      <th>company</th>\n",
       "      <th>constituentStart</th>\n",
       "      <th>constituentEnd</th>\n",
       "      <th>industryCode</th>\n",
       "      <th>industry</th>\n",
       "    </tr>\n",
       "    <tr>\n",
       "      <th>tablerownames</th>\n",
       "      <th></th>\n",
       "      <th></th>\n",
       "      <th></th>\n",
       "      <th></th>\n",
       "      <th></th>\n",
       "      <th></th>\n",
       "    </tr>\n",
       "  </thead>\n",
       "  <tbody>\n",
       "    <tr>\n",
       "      <th>679</th>\n",
       "      <td>GOOG.US Equity</td>\n",
       "      <td>Alphabet Inc. Class C</td>\n",
       "      <td>2014-04-03</td>\n",
       "      <td>NaT</td>\n",
       "      <td>502030</td>\n",
       "      <td>Interactive Media &amp; Services</td>\n",
       "    </tr>\n",
       "  </tbody>\n",
       "</table>\n",
       "</div>"
      ],
      "text/plain": [
       "                       ticker                company constituentStart  \\\n",
       "tablerownames                                                           \n",
       "679            GOOG.US Equity  Alphabet Inc. Class C       2014-04-03   \n",
       "\n",
       "              constituentEnd industryCode                      industry  \n",
       "tablerownames                                                            \n",
       "679                      NaT       502030  Interactive Media & Services  "
      ]
     },
     "execution_count": 14,
     "metadata": {},
     "output_type": "execute_result"
    }
   ],
   "source": [
    "companies_data.loc[companies_data.ticker == 'GOOG.US Equity']"
   ]
  },
  {
   "cell_type": "code",
   "execution_count": 15,
   "metadata": {},
   "outputs": [],
   "source": [
    "def check_company_sp500(ticker,date):\n",
    "    companies_data = alphien.data.getTickersSP500()\n",
    "    company_data = companies_data[companies_data.ticker == ticker]\n",
    "    i=company_data.index[0]\n",
    "    start_date = company_data['constituentStart'][i]\n",
    "    end_date = company_data['constituentEnd'][i]\n",
    "    print(start_date)\n",
    "    print(type(start_date),type(date))\n",
    "    if date > start_date and date < end_date:\n",
    "        return True\n",
    "    else:\n",
    "        return False"
   ]
  },
  {
   "cell_type": "code",
   "execution_count": 16,
   "metadata": {},
   "outputs": [],
   "source": [
    "def sp500_company_list(date):\n",
    "    companies_data = alphien.data.getTickersSP500()\n",
    "    company_list=[]\n",
    "    for c in companies_data.index:\n",
    "        start_date = companies_data['constituentStart'][c]\n",
    "        \n",
    "        if pd.isnull(companies_data['constituentEnd'][c]):\n",
    "            end_date=date.today()\n",
    "        else:    \n",
    "            end_date = companies_data['constituentEnd'][c]\n",
    "            \n",
    "            \n",
    "        if date > start_date and date < end_date:\n",
    "            company_list.append(companies_data['ticker'][c])\n",
    "    return company_list"
   ]
  },
  {
   "cell_type": "code",
   "execution_count": null,
   "metadata": {},
   "outputs": [],
   "source": [
    "for i in all_data.index:\n",
    "    index_number = all_data.index.get_loc(i)\n",
    "    print(i,check_company_sp500('NFLX.US Equity',i))"
   ]
  },
  {
   "cell_type": "code",
   "execution_count": null,
   "metadata": {},
   "outputs": [],
   "source": [
    "for i in all_data.index:\n",
    "    index_number = all_data.index.get_loc(i)\n",
    "    if index_number>10:\n",
    "        break\n",
    "    print(i)\n",
    "    string_company_list='sp500_companylist'\n",
    "    print(len(sp500_company_list(i)))\n",
    "    \n",
    "    "
   ]
  },
  {
   "cell_type": "code",
   "execution_count": 30,
   "metadata": {},
   "outputs": [
    {
     "data": {
      "text/plain": [
       "['FB.US Equity.trend_sum',\n",
       " 'AMZN.US Equity.trend_sum',\n",
       " 'NFLX.US Equity.trend_sum',\n",
       " 'GOOG.US Equity.trend_sum']"
      ]
     },
     "execution_count": 30,
     "metadata": {},
     "output_type": "execute_result"
    }
   ],
   "source": [
    "#Only keeping required fields\n",
    "fields=[]\n",
    "for t in ticker_all:\n",
    "    #fields.append(t+'.close_price')\n",
    "    fields.append(t+'.trend_sum')\n",
    "\n",
    "fields"
   ]
  },
  {
   "cell_type": "code",
   "execution_count": 31,
   "metadata": {},
   "outputs": [],
   "source": [
    "refine_data = all_data[fields]"
   ]
  },
  {
   "cell_type": "code",
   "execution_count": 32,
   "metadata": {},
   "outputs": [
    {
     "data": {
      "text/html": [
       "<div>\n",
       "<style scoped>\n",
       "    .dataframe tbody tr th:only-of-type {\n",
       "        vertical-align: middle;\n",
       "    }\n",
       "\n",
       "    .dataframe tbody tr th {\n",
       "        vertical-align: top;\n",
       "    }\n",
       "\n",
       "    .dataframe thead th {\n",
       "        text-align: right;\n",
       "    }\n",
       "</style>\n",
       "<table border=\"1\" class=\"dataframe\">\n",
       "  <thead>\n",
       "    <tr style=\"text-align: right;\">\n",
       "      <th></th>\n",
       "      <th>FB.US Equity.trend_sum</th>\n",
       "      <th>AMZN.US Equity.trend_sum</th>\n",
       "      <th>NFLX.US Equity.trend_sum</th>\n",
       "      <th>GOOG.US Equity.trend_sum</th>\n",
       "    </tr>\n",
       "    <tr>\n",
       "      <th>date</th>\n",
       "      <th></th>\n",
       "      <th></th>\n",
       "      <th></th>\n",
       "      <th></th>\n",
       "    </tr>\n",
       "  </thead>\n",
       "  <tbody>\n",
       "    <tr>\n",
       "      <th>2007-01-03</th>\n",
       "      <td>NaN</td>\n",
       "      <td>NaN</td>\n",
       "      <td>NaN</td>\n",
       "      <td>NaN</td>\n",
       "    </tr>\n",
       "    <tr>\n",
       "      <th>2007-01-04</th>\n",
       "      <td>NaN</td>\n",
       "      <td>NaN</td>\n",
       "      <td>NaN</td>\n",
       "      <td>NaN</td>\n",
       "    </tr>\n",
       "    <tr>\n",
       "      <th>2007-01-05</th>\n",
       "      <td>NaN</td>\n",
       "      <td>NaN</td>\n",
       "      <td>NaN</td>\n",
       "      <td>NaN</td>\n",
       "    </tr>\n",
       "    <tr>\n",
       "      <th>2007-01-08</th>\n",
       "      <td>NaN</td>\n",
       "      <td>NaN</td>\n",
       "      <td>NaN</td>\n",
       "      <td>NaN</td>\n",
       "    </tr>\n",
       "    <tr>\n",
       "      <th>2007-01-09</th>\n",
       "      <td>NaN</td>\n",
       "      <td>NaN</td>\n",
       "      <td>NaN</td>\n",
       "      <td>NaN</td>\n",
       "    </tr>\n",
       "    <tr>\n",
       "      <th>...</th>\n",
       "      <td>...</td>\n",
       "      <td>...</td>\n",
       "      <td>...</td>\n",
       "      <td>...</td>\n",
       "    </tr>\n",
       "    <tr>\n",
       "      <th>2016-12-23</th>\n",
       "      <td>1.042270</td>\n",
       "      <td>1.312339</td>\n",
       "      <td>-1.879895</td>\n",
       "      <td>0.561629</td>\n",
       "    </tr>\n",
       "    <tr>\n",
       "      <th>2016-12-27</th>\n",
       "      <td>1.033427</td>\n",
       "      <td>1.309617</td>\n",
       "      <td>-1.842025</td>\n",
       "      <td>0.556969</td>\n",
       "    </tr>\n",
       "    <tr>\n",
       "      <th>2016-12-28</th>\n",
       "      <td>1.023932</td>\n",
       "      <td>1.307452</td>\n",
       "      <td>-1.802417</td>\n",
       "      <td>0.552004</td>\n",
       "    </tr>\n",
       "    <tr>\n",
       "      <th>2016-12-29</th>\n",
       "      <td>1.013642</td>\n",
       "      <td>1.304867</td>\n",
       "      <td>-1.772044</td>\n",
       "      <td>0.545740</td>\n",
       "    </tr>\n",
       "    <tr>\n",
       "      <th>2016-12-30</th>\n",
       "      <td>1.002694</td>\n",
       "      <td>1.302651</td>\n",
       "      <td>-1.742524</td>\n",
       "      <td>0.538610</td>\n",
       "    </tr>\n",
       "  </tbody>\n",
       "</table>\n",
       "<p>2518 rows × 4 columns</p>\n",
       "</div>"
      ],
      "text/plain": [
       "            FB.US Equity.trend_sum  AMZN.US Equity.trend_sum  \\\n",
       "date                                                           \n",
       "2007-01-03                     NaN                       NaN   \n",
       "2007-01-04                     NaN                       NaN   \n",
       "2007-01-05                     NaN                       NaN   \n",
       "2007-01-08                     NaN                       NaN   \n",
       "2007-01-09                     NaN                       NaN   \n",
       "...                            ...                       ...   \n",
       "2016-12-23                1.042270                  1.312339   \n",
       "2016-12-27                1.033427                  1.309617   \n",
       "2016-12-28                1.023932                  1.307452   \n",
       "2016-12-29                1.013642                  1.304867   \n",
       "2016-12-30                1.002694                  1.302651   \n",
       "\n",
       "            NFLX.US Equity.trend_sum  GOOG.US Equity.trend_sum  \n",
       "date                                                            \n",
       "2007-01-03                       NaN                       NaN  \n",
       "2007-01-04                       NaN                       NaN  \n",
       "2007-01-05                       NaN                       NaN  \n",
       "2007-01-08                       NaN                       NaN  \n",
       "2007-01-09                       NaN                       NaN  \n",
       "...                              ...                       ...  \n",
       "2016-12-23                 -1.879895                  0.561629  \n",
       "2016-12-27                 -1.842025                  0.556969  \n",
       "2016-12-28                 -1.802417                  0.552004  \n",
       "2016-12-29                 -1.772044                  0.545740  \n",
       "2016-12-30                 -1.742524                  0.538610  \n",
       "\n",
       "[2518 rows x 4 columns]"
      ]
     },
     "execution_count": 32,
     "metadata": {},
     "output_type": "execute_result"
    }
   ],
   "source": [
    "refine_data"
   ]
  },
  {
   "cell_type": "code",
   "execution_count": 58,
   "metadata": {},
   "outputs": [
    {
     "data": {
      "text/html": [
       "<div>\n",
       "<style scoped>\n",
       "    .dataframe tbody tr th:only-of-type {\n",
       "        vertical-align: middle;\n",
       "    }\n",
       "\n",
       "    .dataframe tbody tr th {\n",
       "        vertical-align: top;\n",
       "    }\n",
       "\n",
       "    .dataframe thead th {\n",
       "        text-align: right;\n",
       "    }\n",
       "</style>\n",
       "<table border=\"1\" class=\"dataframe\">\n",
       "  <thead>\n",
       "    <tr style=\"text-align: right;\">\n",
       "      <th></th>\n",
       "      <th>FB.US Equity.trend_sum</th>\n",
       "      <th>AMZN.US Equity.trend_sum</th>\n",
       "      <th>NFLX.US Equity.trend_sum</th>\n",
       "      <th>GOOG.US Equity.trend_sum</th>\n",
       "    </tr>\n",
       "    <tr>\n",
       "      <th>date</th>\n",
       "      <th></th>\n",
       "      <th></th>\n",
       "      <th></th>\n",
       "      <th></th>\n",
       "    </tr>\n",
       "  </thead>\n",
       "  <tbody>\n",
       "    <tr>\n",
       "      <th>2016-11-03</th>\n",
       "      <td>1.294596</td>\n",
       "      <td>1.370733</td>\n",
       "      <td>-2.698086</td>\n",
       "      <td>0.758912</td>\n",
       "    </tr>\n",
       "    <tr>\n",
       "      <th>2016-11-04</th>\n",
       "      <td>1.293069</td>\n",
       "      <td>1.364531</td>\n",
       "      <td>-2.684129</td>\n",
       "      <td>0.751407</td>\n",
       "    </tr>\n",
       "    <tr>\n",
       "      <th>2016-11-07</th>\n",
       "      <td>1.292438</td>\n",
       "      <td>1.359898</td>\n",
       "      <td>-2.667981</td>\n",
       "      <td>0.745943</td>\n",
       "    </tr>\n",
       "    <tr>\n",
       "      <th>2016-11-08</th>\n",
       "      <td>1.291164</td>\n",
       "      <td>1.354599</td>\n",
       "      <td>-2.652025</td>\n",
       "      <td>0.740093</td>\n",
       "    </tr>\n",
       "    <tr>\n",
       "      <th>2016-11-09</th>\n",
       "      <td>1.292028</td>\n",
       "      <td>1.350347</td>\n",
       "      <td>-2.636020</td>\n",
       "      <td>0.735114</td>\n",
       "    </tr>\n",
       "    <tr>\n",
       "      <th>2016-11-10</th>\n",
       "      <td>1.282988</td>\n",
       "      <td>1.339392</td>\n",
       "      <td>-2.619350</td>\n",
       "      <td>0.726343</td>\n",
       "    </tr>\n",
       "    <tr>\n",
       "      <th>2016-11-11</th>\n",
       "      <td>1.272723</td>\n",
       "      <td>1.332528</td>\n",
       "      <td>-2.604439</td>\n",
       "      <td>0.716465</td>\n",
       "    </tr>\n",
       "    <tr>\n",
       "      <th>2016-11-14</th>\n",
       "      <td>1.258281</td>\n",
       "      <td>1.325487</td>\n",
       "      <td>-2.587160</td>\n",
       "      <td>0.704804</td>\n",
       "    </tr>\n",
       "    <tr>\n",
       "      <th>2016-11-15</th>\n",
       "      <td>1.244034</td>\n",
       "      <td>1.320209</td>\n",
       "      <td>-2.571746</td>\n",
       "      <td>0.692206</td>\n",
       "    </tr>\n",
       "    <tr>\n",
       "      <th>2016-11-16</th>\n",
       "      <td>1.230323</td>\n",
       "      <td>1.317928</td>\n",
       "      <td>-2.555791</td>\n",
       "      <td>0.683024</td>\n",
       "    </tr>\n",
       "    <tr>\n",
       "      <th>2016-11-17</th>\n",
       "      <td>1.219194</td>\n",
       "      <td>1.316320</td>\n",
       "      <td>-2.538958</td>\n",
       "      <td>0.675983</td>\n",
       "    </tr>\n",
       "    <tr>\n",
       "      <th>2016-11-18</th>\n",
       "      <td>1.213853</td>\n",
       "      <td>1.319506</td>\n",
       "      <td>-2.519911</td>\n",
       "      <td>0.671126</td>\n",
       "    </tr>\n",
       "    <tr>\n",
       "      <th>2016-11-21</th>\n",
       "      <td>1.210663</td>\n",
       "      <td>1.324410</td>\n",
       "      <td>-2.500022</td>\n",
       "      <td>0.666862</td>\n",
       "    </tr>\n",
       "    <tr>\n",
       "      <th>2016-11-22</th>\n",
       "      <td>1.208459</td>\n",
       "      <td>1.333881</td>\n",
       "      <td>-2.478353</td>\n",
       "      <td>0.664297</td>\n",
       "    </tr>\n",
       "    <tr>\n",
       "      <th>2016-11-23</th>\n",
       "      <td>1.204548</td>\n",
       "      <td>1.341978</td>\n",
       "      <td>-2.456105</td>\n",
       "      <td>0.660167</td>\n",
       "    </tr>\n",
       "    <tr>\n",
       "      <th>2016-11-25</th>\n",
       "      <td>1.201012</td>\n",
       "      <td>1.348322</td>\n",
       "      <td>-2.434811</td>\n",
       "      <td>0.655758</td>\n",
       "    </tr>\n",
       "    <tr>\n",
       "      <th>2016-11-28</th>\n",
       "      <td>1.195761</td>\n",
       "      <td>1.352842</td>\n",
       "      <td>-2.413589</td>\n",
       "      <td>0.651567</td>\n",
       "    </tr>\n",
       "    <tr>\n",
       "      <th>2016-11-29</th>\n",
       "      <td>1.191020</td>\n",
       "      <td>1.355930</td>\n",
       "      <td>-2.390314</td>\n",
       "      <td>0.647018</td>\n",
       "    </tr>\n",
       "    <tr>\n",
       "      <th>2016-11-30</th>\n",
       "      <td>1.183393</td>\n",
       "      <td>1.357060</td>\n",
       "      <td>-2.368443</td>\n",
       "      <td>0.640506</td>\n",
       "    </tr>\n",
       "    <tr>\n",
       "      <th>2016-12-01</th>\n",
       "      <td>1.173953</td>\n",
       "      <td>1.357906</td>\n",
       "      <td>-2.343275</td>\n",
       "      <td>0.634132</td>\n",
       "    </tr>\n",
       "    <tr>\n",
       "      <th>2016-12-02</th>\n",
       "      <td>1.164217</td>\n",
       "      <td>1.356704</td>\n",
       "      <td>-2.316079</td>\n",
       "      <td>0.626675</td>\n",
       "    </tr>\n",
       "    <tr>\n",
       "      <th>2016-12-05</th>\n",
       "      <td>1.154732</td>\n",
       "      <td>1.354269</td>\n",
       "      <td>-2.290454</td>\n",
       "      <td>0.619450</td>\n",
       "    </tr>\n",
       "    <tr>\n",
       "      <th>2016-12-06</th>\n",
       "      <td>1.146526</td>\n",
       "      <td>1.353347</td>\n",
       "      <td>-2.259729</td>\n",
       "      <td>0.613663</td>\n",
       "    </tr>\n",
       "    <tr>\n",
       "      <th>2016-12-07</th>\n",
       "      <td>1.138466</td>\n",
       "      <td>1.352223</td>\n",
       "      <td>-2.231011</td>\n",
       "      <td>0.608513</td>\n",
       "    </tr>\n",
       "    <tr>\n",
       "      <th>2016-12-08</th>\n",
       "      <td>1.129319</td>\n",
       "      <td>1.350199</td>\n",
       "      <td>-2.204873</td>\n",
       "      <td>0.603333</td>\n",
       "    </tr>\n",
       "    <tr>\n",
       "      <th>2016-12-09</th>\n",
       "      <td>1.121216</td>\n",
       "      <td>1.348300</td>\n",
       "      <td>-2.177832</td>\n",
       "      <td>0.599146</td>\n",
       "    </tr>\n",
       "    <tr>\n",
       "      <th>2016-12-12</th>\n",
       "      <td>1.112699</td>\n",
       "      <td>1.345415</td>\n",
       "      <td>-2.152161</td>\n",
       "      <td>0.595323</td>\n",
       "    </tr>\n",
       "    <tr>\n",
       "      <th>2016-12-13</th>\n",
       "      <td>1.103696</td>\n",
       "      <td>1.341451</td>\n",
       "      <td>-2.128385</td>\n",
       "      <td>0.591165</td>\n",
       "    </tr>\n",
       "    <tr>\n",
       "      <th>2016-12-14</th>\n",
       "      <td>1.094823</td>\n",
       "      <td>1.336634</td>\n",
       "      <td>-2.101619</td>\n",
       "      <td>0.586565</td>\n",
       "    </tr>\n",
       "    <tr>\n",
       "      <th>2016-12-15</th>\n",
       "      <td>1.086283</td>\n",
       "      <td>1.330964</td>\n",
       "      <td>-2.073217</td>\n",
       "      <td>0.582395</td>\n",
       "    </tr>\n",
       "    <tr>\n",
       "      <th>2016-12-16</th>\n",
       "      <td>1.078607</td>\n",
       "      <td>1.325331</td>\n",
       "      <td>-2.045311</td>\n",
       "      <td>0.578160</td>\n",
       "    </tr>\n",
       "    <tr>\n",
       "      <th>2016-12-19</th>\n",
       "      <td>1.072761</td>\n",
       "      <td>1.321990</td>\n",
       "      <td>-2.015745</td>\n",
       "      <td>0.575509</td>\n",
       "    </tr>\n",
       "    <tr>\n",
       "      <th>2016-12-20</th>\n",
       "      <td>1.066352</td>\n",
       "      <td>1.319710</td>\n",
       "      <td>-1.984661</td>\n",
       "      <td>0.573238</td>\n",
       "    </tr>\n",
       "    <tr>\n",
       "      <th>2016-12-21</th>\n",
       "      <td>1.059388</td>\n",
       "      <td>1.317983</td>\n",
       "      <td>-1.950127</td>\n",
       "      <td>0.570214</td>\n",
       "    </tr>\n",
       "    <tr>\n",
       "      <th>2016-12-22</th>\n",
       "      <td>1.051161</td>\n",
       "      <td>1.315675</td>\n",
       "      <td>-1.915483</td>\n",
       "      <td>0.566067</td>\n",
       "    </tr>\n",
       "    <tr>\n",
       "      <th>2016-12-23</th>\n",
       "      <td>1.042270</td>\n",
       "      <td>1.312339</td>\n",
       "      <td>-1.879895</td>\n",
       "      <td>0.561629</td>\n",
       "    </tr>\n",
       "    <tr>\n",
       "      <th>2016-12-27</th>\n",
       "      <td>1.033427</td>\n",
       "      <td>1.309617</td>\n",
       "      <td>-1.842025</td>\n",
       "      <td>0.556969</td>\n",
       "    </tr>\n",
       "    <tr>\n",
       "      <th>2016-12-28</th>\n",
       "      <td>1.023932</td>\n",
       "      <td>1.307452</td>\n",
       "      <td>-1.802417</td>\n",
       "      <td>0.552004</td>\n",
       "    </tr>\n",
       "    <tr>\n",
       "      <th>2016-12-29</th>\n",
       "      <td>1.013642</td>\n",
       "      <td>1.304867</td>\n",
       "      <td>-1.772044</td>\n",
       "      <td>0.545740</td>\n",
       "    </tr>\n",
       "    <tr>\n",
       "      <th>2016-12-30</th>\n",
       "      <td>1.002694</td>\n",
       "      <td>1.302651</td>\n",
       "      <td>-1.742524</td>\n",
       "      <td>0.538610</td>\n",
       "    </tr>\n",
       "  </tbody>\n",
       "</table>\n",
       "</div>"
      ],
      "text/plain": [
       "            FB.US Equity.trend_sum  AMZN.US Equity.trend_sum  \\\n",
       "date                                                           \n",
       "2016-11-03                1.294596                  1.370733   \n",
       "2016-11-04                1.293069                  1.364531   \n",
       "2016-11-07                1.292438                  1.359898   \n",
       "2016-11-08                1.291164                  1.354599   \n",
       "2016-11-09                1.292028                  1.350347   \n",
       "2016-11-10                1.282988                  1.339392   \n",
       "2016-11-11                1.272723                  1.332528   \n",
       "2016-11-14                1.258281                  1.325487   \n",
       "2016-11-15                1.244034                  1.320209   \n",
       "2016-11-16                1.230323                  1.317928   \n",
       "2016-11-17                1.219194                  1.316320   \n",
       "2016-11-18                1.213853                  1.319506   \n",
       "2016-11-21                1.210663                  1.324410   \n",
       "2016-11-22                1.208459                  1.333881   \n",
       "2016-11-23                1.204548                  1.341978   \n",
       "2016-11-25                1.201012                  1.348322   \n",
       "2016-11-28                1.195761                  1.352842   \n",
       "2016-11-29                1.191020                  1.355930   \n",
       "2016-11-30                1.183393                  1.357060   \n",
       "2016-12-01                1.173953                  1.357906   \n",
       "2016-12-02                1.164217                  1.356704   \n",
       "2016-12-05                1.154732                  1.354269   \n",
       "2016-12-06                1.146526                  1.353347   \n",
       "2016-12-07                1.138466                  1.352223   \n",
       "2016-12-08                1.129319                  1.350199   \n",
       "2016-12-09                1.121216                  1.348300   \n",
       "2016-12-12                1.112699                  1.345415   \n",
       "2016-12-13                1.103696                  1.341451   \n",
       "2016-12-14                1.094823                  1.336634   \n",
       "2016-12-15                1.086283                  1.330964   \n",
       "2016-12-16                1.078607                  1.325331   \n",
       "2016-12-19                1.072761                  1.321990   \n",
       "2016-12-20                1.066352                  1.319710   \n",
       "2016-12-21                1.059388                  1.317983   \n",
       "2016-12-22                1.051161                  1.315675   \n",
       "2016-12-23                1.042270                  1.312339   \n",
       "2016-12-27                1.033427                  1.309617   \n",
       "2016-12-28                1.023932                  1.307452   \n",
       "2016-12-29                1.013642                  1.304867   \n",
       "2016-12-30                1.002694                  1.302651   \n",
       "\n",
       "            NFLX.US Equity.trend_sum  GOOG.US Equity.trend_sum  \n",
       "date                                                            \n",
       "2016-11-03                 -2.698086                  0.758912  \n",
       "2016-11-04                 -2.684129                  0.751407  \n",
       "2016-11-07                 -2.667981                  0.745943  \n",
       "2016-11-08                 -2.652025                  0.740093  \n",
       "2016-11-09                 -2.636020                  0.735114  \n",
       "2016-11-10                 -2.619350                  0.726343  \n",
       "2016-11-11                 -2.604439                  0.716465  \n",
       "2016-11-14                 -2.587160                  0.704804  \n",
       "2016-11-15                 -2.571746                  0.692206  \n",
       "2016-11-16                 -2.555791                  0.683024  \n",
       "2016-11-17                 -2.538958                  0.675983  \n",
       "2016-11-18                 -2.519911                  0.671126  \n",
       "2016-11-21                 -2.500022                  0.666862  \n",
       "2016-11-22                 -2.478353                  0.664297  \n",
       "2016-11-23                 -2.456105                  0.660167  \n",
       "2016-11-25                 -2.434811                  0.655758  \n",
       "2016-11-28                 -2.413589                  0.651567  \n",
       "2016-11-29                 -2.390314                  0.647018  \n",
       "2016-11-30                 -2.368443                  0.640506  \n",
       "2016-12-01                 -2.343275                  0.634132  \n",
       "2016-12-02                 -2.316079                  0.626675  \n",
       "2016-12-05                 -2.290454                  0.619450  \n",
       "2016-12-06                 -2.259729                  0.613663  \n",
       "2016-12-07                 -2.231011                  0.608513  \n",
       "2016-12-08                 -2.204873                  0.603333  \n",
       "2016-12-09                 -2.177832                  0.599146  \n",
       "2016-12-12                 -2.152161                  0.595323  \n",
       "2016-12-13                 -2.128385                  0.591165  \n",
       "2016-12-14                 -2.101619                  0.586565  \n",
       "2016-12-15                 -2.073217                  0.582395  \n",
       "2016-12-16                 -2.045311                  0.578160  \n",
       "2016-12-19                 -2.015745                  0.575509  \n",
       "2016-12-20                 -1.984661                  0.573238  \n",
       "2016-12-21                 -1.950127                  0.570214  \n",
       "2016-12-22                 -1.915483                  0.566067  \n",
       "2016-12-23                 -1.879895                  0.561629  \n",
       "2016-12-27                 -1.842025                  0.556969  \n",
       "2016-12-28                 -1.802417                  0.552004  \n",
       "2016-12-29                 -1.772044                  0.545740  \n",
       "2016-12-30                 -1.742524                  0.538610  "
      ]
     },
     "execution_count": 58,
     "metadata": {},
     "output_type": "execute_result"
    }
   ],
   "source": [
    "to_test = refine_data.tail(40)\n",
    "to_test"
   ]
  },
  {
   "cell_type": "code",
   "execution_count": 61,
   "metadata": {},
   "outputs": [
    {
     "name": "stdout",
     "output_type": "stream",
     "text": [
      "AMZN.US Equity,FB.US Equity,GOOG.US Equity,NFLX.US Equity\n",
      "AMZN.US Equity,FB.US Equity,GOOG.US Equity,NFLX.US Equity\n",
      "AMZN.US Equity,FB.US Equity,GOOG.US Equity,NFLX.US Equity\n",
      "AMZN.US Equity,FB.US Equity,GOOG.US Equity,NFLX.US Equity\n",
      "AMZN.US Equity,FB.US Equity,GOOG.US Equity,NFLX.US Equity\n",
      "AMZN.US Equity,FB.US Equity,GOOG.US Equity,NFLX.US Equity\n",
      "AMZN.US Equity,FB.US Equity,GOOG.US Equity,NFLX.US Equity\n",
      "AMZN.US Equity,FB.US Equity,GOOG.US Equity,NFLX.US Equity\n",
      "AMZN.US Equity,FB.US Equity,GOOG.US Equity,NFLX.US Equity\n",
      "AMZN.US Equity,FB.US Equity,GOOG.US Equity,NFLX.US Equity\n",
      "AMZN.US Equity,FB.US Equity,GOOG.US Equity,NFLX.US Equity\n",
      "AMZN.US Equity,FB.US Equity,GOOG.US Equity,NFLX.US Equity\n",
      "AMZN.US Equity,FB.US Equity,GOOG.US Equity,NFLX.US Equity\n",
      "AMZN.US Equity,FB.US Equity,GOOG.US Equity,NFLX.US Equity\n",
      "AMZN.US Equity,FB.US Equity,GOOG.US Equity,NFLX.US Equity\n",
      "AMZN.US Equity,FB.US Equity,GOOG.US Equity,NFLX.US Equity\n",
      "AMZN.US Equity,FB.US Equity,GOOG.US Equity,NFLX.US Equity\n",
      "AMZN.US Equity,FB.US Equity,GOOG.US Equity,NFLX.US Equity\n",
      "AMZN.US Equity,FB.US Equity,GOOG.US Equity,NFLX.US Equity\n",
      "AMZN.US Equity,FB.US Equity,GOOG.US Equity,NFLX.US Equity\n",
      "AMZN.US Equity,FB.US Equity,GOOG.US Equity,NFLX.US Equity\n",
      "AMZN.US Equity,FB.US Equity,GOOG.US Equity,NFLX.US Equity\n",
      "AMZN.US Equity,FB.US Equity,GOOG.US Equity,NFLX.US Equity\n",
      "AMZN.US Equity,FB.US Equity,GOOG.US Equity,NFLX.US Equity\n",
      "AMZN.US Equity,FB.US Equity,GOOG.US Equity,NFLX.US Equity\n",
      "AMZN.US Equity,FB.US Equity,GOOG.US Equity,NFLX.US Equity\n",
      "AMZN.US Equity,FB.US Equity,GOOG.US Equity,NFLX.US Equity\n",
      "AMZN.US Equity,FB.US Equity,GOOG.US Equity,NFLX.US Equity\n",
      "AMZN.US Equity,FB.US Equity,GOOG.US Equity,NFLX.US Equity\n",
      "AMZN.US Equity,FB.US Equity,GOOG.US Equity,NFLX.US Equity\n",
      "AMZN.US Equity,FB.US Equity,GOOG.US Equity,NFLX.US Equity\n",
      "AMZN.US Equity,FB.US Equity,GOOG.US Equity,NFLX.US Equity\n",
      "AMZN.US Equity,FB.US Equity,GOOG.US Equity,NFLX.US Equity\n",
      "AMZN.US Equity,FB.US Equity,GOOG.US Equity,NFLX.US Equity\n",
      "AMZN.US Equity,FB.US Equity,GOOG.US Equity,NFLX.US Equity\n",
      "AMZN.US Equity,FB.US Equity,GOOG.US Equity,NFLX.US Equity\n",
      "AMZN.US Equity,FB.US Equity,GOOG.US Equity,NFLX.US Equity\n",
      "AMZN.US Equity,FB.US Equity,GOOG.US Equity,NFLX.US Equity\n",
      "AMZN.US Equity,FB.US Equity,GOOG.US Equity,NFLX.US Equity\n",
      "AMZN.US Equity,FB.US Equity,GOOG.US Equity,NFLX.US Equity\n"
     ]
    }
   ],
   "source": [
    "#to_test['company_list']=''\n",
    "px = to_test.copy()\n",
    "px['cl']=''\n",
    "for i in to_test.index:\n",
    "    company_list=sp500_company_list(i)\n",
    "    index_number = to_test.index.get_loc(i)\n",
    "    #for t in company_list:\n",
    "     #       print(t)\n",
    "    #maxValueIndex = to_test.loc[[i]].idxmax(axis = 1)\n",
    "    df=to_test.loc[[i]]\n",
    "    #print(maxValueIndex)\n",
    "    df = df.stack().groupby(level=0).rank(method ='first',ascending =False).reset_index(level=1).set_index(0,append=True).unstack()\n",
    "\n",
    "    df = df.apply(lambda x: ','.join(x), axis = 1)\n",
    "    \n",
    "    try:\n",
    "        px['cl'][index_number]=df[i].replace('.trend_sum', '')\n",
    "    except:\n",
    "        px['cl'][index_number]=''\n",
    "        \n",
    "    print(df[i].replace('.trend_sum', ''))\n",
    "    #df['new'] = df['new'].replace('.trend_sum', '')\n",
    "    #df['new'] = df['new'].str.replace('.trend_sum', '',regax=False) "
   ]
  },
  {
   "cell_type": "code",
   "execution_count": 72,
   "metadata": {},
   "outputs": [
    {
     "name": "stdout",
     "output_type": "stream",
     "text": [
      "['AMZN.US Equity', 'FB.US Equity', 'GOOG.US Equity', 'NFLX.US Equity']\n",
      "['AMZN.US Equity', 'FB.US Equity', 'GOOG.US Equity', 'NFLX.US Equity']\n",
      "['AMZN.US Equity', 'FB.US Equity', 'GOOG.US Equity', 'NFLX.US Equity']\n",
      "['AMZN.US Equity', 'FB.US Equity', 'GOOG.US Equity', 'NFLX.US Equity']\n",
      "['AMZN.US Equity', 'FB.US Equity', 'GOOG.US Equity', 'NFLX.US Equity']\n",
      "['AMZN.US Equity', 'FB.US Equity', 'GOOG.US Equity', 'NFLX.US Equity']\n",
      "['AMZN.US Equity', 'FB.US Equity', 'GOOG.US Equity', 'NFLX.US Equity']\n",
      "['AMZN.US Equity', 'FB.US Equity', 'GOOG.US Equity', 'NFLX.US Equity']\n",
      "['AMZN.US Equity', 'FB.US Equity', 'GOOG.US Equity', 'NFLX.US Equity']\n",
      "['AMZN.US Equity', 'FB.US Equity', 'GOOG.US Equity', 'NFLX.US Equity']\n",
      "['AMZN.US Equity', 'FB.US Equity', 'GOOG.US Equity', 'NFLX.US Equity']\n",
      "['AMZN.US Equity', 'FB.US Equity', 'GOOG.US Equity', 'NFLX.US Equity']\n",
      "['AMZN.US Equity', 'FB.US Equity', 'GOOG.US Equity', 'NFLX.US Equity']\n",
      "['AMZN.US Equity', 'FB.US Equity', 'GOOG.US Equity', 'NFLX.US Equity']\n",
      "['AMZN.US Equity', 'FB.US Equity', 'GOOG.US Equity', 'NFLX.US Equity']\n",
      "['AMZN.US Equity', 'FB.US Equity', 'GOOG.US Equity', 'NFLX.US Equity']\n",
      "['AMZN.US Equity', 'FB.US Equity', 'GOOG.US Equity', 'NFLX.US Equity']\n",
      "['AMZN.US Equity', 'FB.US Equity', 'GOOG.US Equity', 'NFLX.US Equity']\n",
      "['AMZN.US Equity', 'FB.US Equity', 'GOOG.US Equity', 'NFLX.US Equity']\n",
      "['AMZN.US Equity', 'FB.US Equity', 'GOOG.US Equity', 'NFLX.US Equity']\n",
      "['AMZN.US Equity', 'FB.US Equity', 'GOOG.US Equity', 'NFLX.US Equity']\n",
      "['AMZN.US Equity', 'FB.US Equity', 'GOOG.US Equity', 'NFLX.US Equity']\n",
      "['AMZN.US Equity', 'FB.US Equity', 'GOOG.US Equity', 'NFLX.US Equity']\n",
      "['AMZN.US Equity', 'FB.US Equity', 'GOOG.US Equity', 'NFLX.US Equity']\n",
      "['AMZN.US Equity', 'FB.US Equity', 'GOOG.US Equity', 'NFLX.US Equity']\n",
      "['AMZN.US Equity', 'FB.US Equity', 'GOOG.US Equity', 'NFLX.US Equity']\n",
      "['AMZN.US Equity', 'FB.US Equity', 'GOOG.US Equity', 'NFLX.US Equity']\n",
      "['AMZN.US Equity', 'FB.US Equity', 'GOOG.US Equity', 'NFLX.US Equity']\n",
      "['AMZN.US Equity', 'FB.US Equity', 'GOOG.US Equity', 'NFLX.US Equity']\n",
      "['AMZN.US Equity', 'FB.US Equity', 'GOOG.US Equity', 'NFLX.US Equity']\n",
      "['AMZN.US Equity', 'FB.US Equity', 'GOOG.US Equity', 'NFLX.US Equity']\n",
      "['AMZN.US Equity', 'FB.US Equity', 'GOOG.US Equity', 'NFLX.US Equity']\n",
      "['AMZN.US Equity', 'FB.US Equity', 'GOOG.US Equity', 'NFLX.US Equity']\n",
      "['AMZN.US Equity', 'FB.US Equity', 'GOOG.US Equity', 'NFLX.US Equity']\n",
      "['AMZN.US Equity', 'FB.US Equity', 'GOOG.US Equity', 'NFLX.US Equity']\n",
      "['AMZN.US Equity', 'FB.US Equity', 'GOOG.US Equity', 'NFLX.US Equity']\n",
      "['AMZN.US Equity', 'FB.US Equity', 'GOOG.US Equity', 'NFLX.US Equity']\n",
      "['AMZN.US Equity', 'FB.US Equity', 'GOOG.US Equity', 'NFLX.US Equity']\n",
      "['AMZN.US Equity', 'FB.US Equity', 'GOOG.US Equity', 'NFLX.US Equity']\n",
      "['AMZN.US Equity', 'FB.US Equity', 'GOOG.US Equity', 'NFLX.US Equity']\n"
     ]
    }
   ],
   "source": [
    "for i in px.index:\n",
    "    j =  px['cl'][i].split(',')\n",
    "    print(j)"
   ]
  },
  {
   "cell_type": "code",
   "execution_count": null,
   "metadata": {},
   "outputs": [],
   "source": [
    "for t in t2:\n",
    "    print(t.replace())"
   ]
  },
  {
   "cell_type": "code",
   "execution_count": 38,
   "metadata": {},
   "outputs": [
    {
     "ename": "DataError",
     "evalue": "No numeric types to aggregate",
     "output_type": "error",
     "traceback": [
      "\u001b[0;31m---------------------------------------------------------------------------\u001b[0m",
      "\u001b[0;31mDataError\u001b[0m                                 Traceback (most recent call last)",
      "\u001b[0;32m<ipython-input-38-7f6ffac2ff19>\u001b[0m in \u001b[0;36m<module>\u001b[0;34m\u001b[0m\n\u001b[0;32m----> 1\u001b[0;31m \u001b[0mdf2\u001b[0m \u001b[0;34m=\u001b[0m \u001b[0mto_test\u001b[0m\u001b[0;34m.\u001b[0m\u001b[0mstack\u001b[0m\u001b[0;34m(\u001b[0m\u001b[0;34m)\u001b[0m\u001b[0;34m.\u001b[0m\u001b[0mgroupby\u001b[0m\u001b[0;34m(\u001b[0m\u001b[0mlevel\u001b[0m\u001b[0;34m=\u001b[0m\u001b[0;36m0\u001b[0m\u001b[0;34m)\u001b[0m\u001b[0;34m.\u001b[0m\u001b[0mrank\u001b[0m\u001b[0;34m(\u001b[0m\u001b[0mmethod\u001b[0m \u001b[0;34m=\u001b[0m\u001b[0;34m'first'\u001b[0m\u001b[0;34m,\u001b[0m\u001b[0mascending\u001b[0m \u001b[0;34m=\u001b[0m\u001b[0;32mFalse\u001b[0m\u001b[0;34m)\u001b[0m\u001b[0;34m.\u001b[0m\u001b[0mreset_index\u001b[0m\u001b[0;34m(\u001b[0m\u001b[0mlevel\u001b[0m\u001b[0;34m=\u001b[0m\u001b[0;36m1\u001b[0m\u001b[0;34m)\u001b[0m\u001b[0;34m.\u001b[0m\u001b[0mset_index\u001b[0m\u001b[0;34m(\u001b[0m\u001b[0;36m0\u001b[0m\u001b[0;34m,\u001b[0m\u001b[0mappend\u001b[0m\u001b[0;34m=\u001b[0m\u001b[0;32mTrue\u001b[0m\u001b[0;34m)\u001b[0m\u001b[0;34m.\u001b[0m\u001b[0munstack\u001b[0m\u001b[0;34m(\u001b[0m\u001b[0;34m)\u001b[0m\u001b[0;34m\u001b[0m\u001b[0;34m\u001b[0m\u001b[0m\n\u001b[0m\u001b[1;32m      2\u001b[0m \u001b[0;31m#df2['combine'] = df2.apply(lambda x: ' '.join(x), axis = 1)\u001b[0m\u001b[0;34m\u001b[0m\u001b[0;34m\u001b[0m\u001b[0;34m\u001b[0m\u001b[0m\n",
      "\u001b[0;32m/opt/conda/lib/python3.6/site-packages/pandas/core/groupby/groupby.py\u001b[0m in \u001b[0;36mrank\u001b[0;34m(self, method, ascending, na_option, pct, axis)\u001b[0m\n\u001b[1;32m   2304\u001b[0m             \u001b[0mna_option\u001b[0m\u001b[0;34m=\u001b[0m\u001b[0mna_option\u001b[0m\u001b[0;34m,\u001b[0m\u001b[0;34m\u001b[0m\u001b[0;34m\u001b[0m\u001b[0m\n\u001b[1;32m   2305\u001b[0m             \u001b[0mpct\u001b[0m\u001b[0;34m=\u001b[0m\u001b[0mpct\u001b[0m\u001b[0;34m,\u001b[0m\u001b[0;34m\u001b[0m\u001b[0;34m\u001b[0m\u001b[0m\n\u001b[0;32m-> 2306\u001b[0;31m             \u001b[0maxis\u001b[0m\u001b[0;34m=\u001b[0m\u001b[0maxis\u001b[0m\u001b[0;34m,\u001b[0m\u001b[0;34m\u001b[0m\u001b[0;34m\u001b[0m\u001b[0m\n\u001b[0m\u001b[1;32m   2307\u001b[0m         )\n\u001b[1;32m   2308\u001b[0m \u001b[0;34m\u001b[0m\u001b[0m\n",
      "\u001b[0;32m/opt/conda/lib/python3.6/site-packages/pandas/core/groupby/groupby.py\u001b[0m in \u001b[0;36m_cython_transform\u001b[0;34m(self, how, numeric_only, **kwargs)\u001b[0m\n\u001b[1;32m    970\u001b[0m \u001b[0;34m\u001b[0m\u001b[0m\n\u001b[1;32m    971\u001b[0m         \u001b[0;32mif\u001b[0m \u001b[0mlen\u001b[0m\u001b[0;34m(\u001b[0m\u001b[0moutput\u001b[0m\u001b[0;34m)\u001b[0m \u001b[0;34m==\u001b[0m \u001b[0;36m0\u001b[0m\u001b[0;34m:\u001b[0m\u001b[0;34m\u001b[0m\u001b[0;34m\u001b[0m\u001b[0m\n\u001b[0;32m--> 972\u001b[0;31m             \u001b[0;32mraise\u001b[0m \u001b[0mDataError\u001b[0m\u001b[0;34m(\u001b[0m\u001b[0;34m\"No numeric types to aggregate\"\u001b[0m\u001b[0;34m)\u001b[0m\u001b[0;34m\u001b[0m\u001b[0;34m\u001b[0m\u001b[0m\n\u001b[0m\u001b[1;32m    973\u001b[0m \u001b[0;34m\u001b[0m\u001b[0m\n\u001b[1;32m    974\u001b[0m         \u001b[0;32mreturn\u001b[0m \u001b[0mself\u001b[0m\u001b[0;34m.\u001b[0m\u001b[0m_wrap_transformed_output\u001b[0m\u001b[0;34m(\u001b[0m\u001b[0moutput\u001b[0m\u001b[0;34m)\u001b[0m\u001b[0;34m\u001b[0m\u001b[0;34m\u001b[0m\u001b[0m\n",
      "\u001b[0;31mDataError\u001b[0m: No numeric types to aggregate"
     ]
    }
   ],
   "source": [
    "df2 = to_test.stack().groupby(level=0).rank(method ='first',ascending =False).reset_index(level=1).set_index(0,append=True).unstack()\n",
    "#df2['combine'] = df2.apply(lambda x: ' '.join(x), axis = 1) "
   ]
  },
  {
   "cell_type": "code",
   "execution_count": null,
   "metadata": {},
   "outputs": [],
   "source": [
    "df2 = df2.apply(lambda x: ','.join(set(x.astype(str))), axis=1)\n"
   ]
  },
  {
   "cell_type": "code",
   "execution_count": null,
   "metadata": {},
   "outputs": [],
   "source": [
    "to_test"
   ]
  },
  {
   "cell_type": "code",
   "execution_count": null,
   "metadata": {},
   "outputs": [],
   "source": [
    "for i in all_data.index:\n",
    "    index_number = all_data.index.get_loc(i)\n",
    "    if index_number>10:\n",
    "        break\n",
    "    print(i)\n",
    "    company_list=sp500_company_list(i)\n",
    "    for t in company_list:\n",
    "    "
   ]
  },
  {
   "cell_type": "code",
   "execution_count": null,
   "metadata": {},
   "outputs": [],
   "source": [
    "############################################################# CsV"
   ]
  },
  {
   "cell_type": "code",
   "execution_count": null,
   "metadata": {},
   "outputs": [],
   "source": [
    "df1 = pd.read_csv('./all_data_google.csv')"
   ]
  },
  {
   "cell_type": "code",
   "execution_count": null,
   "metadata": {},
   "outputs": [],
   "source": [
    "for i in df1.index:\n",
    "    company_list=sp500_company_list(i)"
   ]
  },
  {
   "cell_type": "code",
   "execution_count": null,
   "metadata": {},
   "outputs": [],
   "source": [
    "df1"
   ]
  },
  {
   "cell_type": "code",
   "execution_count": null,
   "metadata": {},
   "outputs": [],
   "source": []
  }
 ],
 "metadata": {
  "kernelspec": {
   "display_name": "Python 3",
   "language": "python",
   "name": "python3"
  },
  "language_info": {
   "codemirror_mode": {
    "name": "ipython",
    "version": 3
   },
   "file_extension": ".py",
   "mimetype": "text/x-python",
   "name": "python",
   "nbconvert_exporter": "python",
   "pygments_lexer": "ipython3",
   "version": "3.6.7"
  }
 },
 "nbformat": 4,
 "nbformat_minor": 4
}
