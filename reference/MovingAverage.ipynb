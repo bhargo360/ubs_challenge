{
 "cells": [
  {
   "cell_type": "code",
   "execution_count": 1,
   "metadata": {},
   "outputs": [
    {
     "name": "stdout",
     "output_type": "stream",
     "text": [
      "Hello Bhargavbhatt, welcome to Alphien!\n",
      "\n",
      "Importing your Alphien sub-packages...\n",
      "\n",
      "import alphien.data\n",
      "import alphien.portfolio\n",
      "import alphien.tutorial\n",
      "\n",
      "Importing your Qlib functions...                                   from team:\n",
      "\n",
      "No functions in Qlib teams: UBSSPEQUITY, UniliFinance, bhargavbhatt\n",
      "\n",
      "Alphien environment imported. Let's do some research now!\n"
     ]
    }
   ],
   "source": [
    "import alphien\n",
    "import datetime\n",
    "import pandas_datareader.data as web"
   ]
  },
  {
   "cell_type": "code",
   "execution_count": 2,
   "metadata": {},
   "outputs": [],
   "source": [
    "tkr = ['AMZN.US Equity', 'NFLX.US Equity']\n",
    "company_price = alphien.data.getHistoryData(tkr, zoom='2007::2016')"
   ]
  },
  {
   "cell_type": "code",
   "execution_count": 3,
   "metadata": {},
   "outputs": [
    {
     "data": {
      "text/html": [
       "<div>\n",
       "<style scoped>\n",
       "    .dataframe tbody tr th:only-of-type {\n",
       "        vertical-align: middle;\n",
       "    }\n",
       "\n",
       "    .dataframe tbody tr th {\n",
       "        vertical-align: top;\n",
       "    }\n",
       "\n",
       "    .dataframe thead th {\n",
       "        text-align: right;\n",
       "    }\n",
       "</style>\n",
       "<table border=\"1\" class=\"dataframe\">\n",
       "  <thead>\n",
       "    <tr style=\"text-align: right;\">\n",
       "      <th></th>\n",
       "      <th>AMZN.US Equity</th>\n",
       "      <th>NFLX.US Equity</th>\n",
       "    </tr>\n",
       "    <tr>\n",
       "      <th>date</th>\n",
       "      <th></th>\n",
       "      <th></th>\n",
       "    </tr>\n",
       "  </thead>\n",
       "  <tbody>\n",
       "    <tr>\n",
       "      <th>2007-01-03</th>\n",
       "      <td>38.700001</td>\n",
       "      <td>26.610001</td>\n",
       "    </tr>\n",
       "    <tr>\n",
       "      <th>2007-01-04</th>\n",
       "      <td>38.900002</td>\n",
       "      <td>25.350000</td>\n",
       "    </tr>\n",
       "    <tr>\n",
       "      <th>2007-01-05</th>\n",
       "      <td>38.369999</td>\n",
       "      <td>24.809999</td>\n",
       "    </tr>\n",
       "    <tr>\n",
       "      <th>2007-01-08</th>\n",
       "      <td>37.500000</td>\n",
       "      <td>23.830000</td>\n",
       "    </tr>\n",
       "    <tr>\n",
       "      <th>2007-01-09</th>\n",
       "      <td>37.779999</td>\n",
       "      <td>23.990000</td>\n",
       "    </tr>\n",
       "    <tr>\n",
       "      <th>...</th>\n",
       "      <td>...</td>\n",
       "      <td>...</td>\n",
       "    </tr>\n",
       "    <tr>\n",
       "      <th>2016-12-23</th>\n",
       "      <td>760.590027</td>\n",
       "      <td>125.589996</td>\n",
       "    </tr>\n",
       "    <tr>\n",
       "      <th>2016-12-27</th>\n",
       "      <td>771.400024</td>\n",
       "      <td>128.350006</td>\n",
       "    </tr>\n",
       "    <tr>\n",
       "      <th>2016-12-28</th>\n",
       "      <td>772.130005</td>\n",
       "      <td>125.889999</td>\n",
       "    </tr>\n",
       "    <tr>\n",
       "      <th>2016-12-29</th>\n",
       "      <td>765.150024</td>\n",
       "      <td>125.330002</td>\n",
       "    </tr>\n",
       "    <tr>\n",
       "      <th>2016-12-30</th>\n",
       "      <td>749.869995</td>\n",
       "      <td>123.800003</td>\n",
       "    </tr>\n",
       "  </tbody>\n",
       "</table>\n",
       "<p>2518 rows × 2 columns</p>\n",
       "</div>"
      ],
      "text/plain": [
       "            AMZN.US Equity  NFLX.US Equity\n",
       "date                                      \n",
       "2007-01-03       38.700001       26.610001\n",
       "2007-01-04       38.900002       25.350000\n",
       "2007-01-05       38.369999       24.809999\n",
       "2007-01-08       37.500000       23.830000\n",
       "2007-01-09       37.779999       23.990000\n",
       "...                    ...             ...\n",
       "2016-12-23      760.590027      125.589996\n",
       "2016-12-27      771.400024      128.350006\n",
       "2016-12-28      772.130005      125.889999\n",
       "2016-12-29      765.150024      125.330002\n",
       "2016-12-30      749.869995      123.800003\n",
       "\n",
       "[2518 rows x 2 columns]"
      ]
     },
     "execution_count": 3,
     "metadata": {},
     "output_type": "execute_result"
    }
   ],
   "source": [
    "company_price"
   ]
  },
  {
   "cell_type": "code",
   "execution_count": 4,
   "metadata": {},
   "outputs": [],
   "source": [
    "#alphien.tutorial.emaCrossSelect(company_price, longMa=260, shortMa=15).head(50)"
   ]
  },
  {
   "cell_type": "code",
   "execution_count": null,
   "metadata": {},
   "outputs": [],
   "source": []
  },
  {
   "cell_type": "code",
   "execution_count": 5,
   "metadata": {},
   "outputs": [],
   "source": [
    "start_date= datetime.datetime(2007,1,1)\n",
    "end_date = datetime.datetime(2016,12,31)\n",
    "number_of_days=200"
   ]
  },
  {
   "cell_type": "code",
   "execution_count": 6,
   "metadata": {},
   "outputs": [],
   "source": [
    "companies_data = alphien.data.getTickersSP500()"
   ]
  },
  {
   "cell_type": "code",
   "execution_count": 7,
   "metadata": {},
   "outputs": [],
   "source": [
    "companies_data_dummy = companies_data.head(1)"
   ]
  },
  {
   "cell_type": "code",
   "execution_count": 8,
   "metadata": {},
   "outputs": [
    {
     "name": "stdout",
     "output_type": "stream",
     "text": [
      "                       ticker                      company constituentStart  \\\n",
      "tablerownames                                                                 \n",
      "2                 A.US Equity    Agilent Technologies Inc.       2000-06-02   \n",
      "3                AA.US Equity                    Alcoa Inc       1970-01-01   \n",
      "6               AAL.US Equity  American Airlines Group Inc       2015-03-20   \n",
      "7               AAP.US Equity       Advance Auto Parts Inc       2015-07-08   \n",
      "8              AAPL.US Equity                   Apple Inc.       1982-11-18   \n",
      "...                       ...                          ...              ...   \n",
      "1672           YHOO.US Equity                   Yahoo! Inc       1999-12-07   \n",
      "1675            YUM.US Equity             Yum! Brands Inc.       1997-10-06   \n",
      "1678            ZBH.US Equity   Zimmer Biomet Holdings Inc       2001-08-06   \n",
      "1681           ZION.US Equity                Zions Bancorp       2001-06-22   \n",
      "1683            ZTS.US Equity                   Zoetis Inc       2013-06-21   \n",
      "\n",
      "              constituentEnd industryCode                          industry  \n",
      "tablerownames                                                                \n",
      "2                        NaT       351010  Health Care Equipment & Supplies  \n",
      "3                 2016-10-31       151040                   Metals & Mining  \n",
      "6                        NaT       203020                          Airlines  \n",
      "7                        NaT       255040                  Specialty Retail  \n",
      "8                        NaT       452020           Computers & Peripherals  \n",
      "...                      ...          ...                               ...  \n",
      "1672              2017-06-17       451010      Internet Software & Services  \n",
      "1675                     NaT       253010     Hotels, Restaurants & Leisure  \n",
      "1678                     NaT       351010  Health Care Equipment & Supplies  \n",
      "1681                     NaT       401010                  Commercial Banks  \n",
      "1683                     NaT       352020                   Pharmaceuticals  \n",
      "\n",
      "[677 rows x 6 columns]\n"
     ]
    }
   ],
   "source": [
    "print(companies_data)"
   ]
  },
  {
   "cell_type": "code",
   "execution_count": 9,
   "metadata": {},
   "outputs": [
    {
     "name": "stdout",
     "output_type": "stream",
     "text": [
      "A\n",
      "                  High         Low        Open       Close    Volume  \\\n",
      "Date                                                                   \n",
      "2007-01-03   39.060001   38.049999   38.680000   38.700001  12405100   \n",
      "2007-01-04   39.139999   38.259998   38.590000   38.900002   6318400   \n",
      "2007-01-05   38.790001   37.599998   38.720001   38.369999   6619700   \n",
      "2007-01-08   38.310001   37.169998   38.220001   37.500000   6783000   \n",
      "2007-01-09   38.060001   37.340000   37.599998   37.779999   5703000   \n",
      "...                ...         ...         ...         ...       ...   \n",
      "2016-12-23  766.500000  757.989990  764.549988  760.590027   1981600   \n",
      "2016-12-27  774.650024  761.200012  763.400024  771.400024   2638700   \n",
      "2016-12-28  780.000000  770.500000  776.250000  772.130005   3301000   \n",
      "2016-12-29  773.400024  760.849976  772.400024  765.150024   3158300   \n",
      "2016-12-30  767.400024  748.280029  766.469971  749.869995   4139400   \n",
      "\n",
      "             Adj Close  \n",
      "Date                    \n",
      "2007-01-03   38.700001  \n",
      "2007-01-04   38.900002  \n",
      "2007-01-05   38.369999  \n",
      "2007-01-08   37.500000  \n",
      "2007-01-09   37.779999  \n",
      "...                ...  \n",
      "2016-12-23  760.590027  \n",
      "2016-12-27  771.400024  \n",
      "2016-12-28  772.130005  \n",
      "2016-12-29  765.150024  \n",
      "2016-12-30  749.869995  \n",
      "\n",
      "[2518 rows x 6 columns]\n",
      "---\n"
     ]
    }
   ],
   "source": [
    "for t in companies_data_dummy['ticker']:\n",
    "    print(t.split('.US')[0])\n",
    "    SBO = web.DataReader(\"AMZN\",'yahoo',start_date,end_date)\n",
    "    print(SBO)\n",
    "    print('---')"
   ]
  },
  {
   "cell_type": "code",
   "execution_count": 10,
   "metadata": {},
   "outputs": [
    {
     "name": "stdout",
     "output_type": "stream",
     "text": [
      "                  High         Low        Open       Close    Volume  \\\n",
      "Date                                                                   \n",
      "2007-01-03   39.060001   38.049999   38.680000   38.700001  12405100   \n",
      "2007-01-04   39.139999   38.259998   38.590000   38.900002   6318400   \n",
      "2007-01-05   38.790001   37.599998   38.720001   38.369999   6619700   \n",
      "2007-01-08   38.310001   37.169998   38.220001   37.500000   6783000   \n",
      "2007-01-09   38.060001   37.340000   37.599998   37.779999   5703000   \n",
      "...                ...         ...         ...         ...       ...   \n",
      "2016-12-23  766.500000  757.989990  764.549988  760.590027   1981600   \n",
      "2016-12-27  774.650024  761.200012  763.400024  771.400024   2638700   \n",
      "2016-12-28  780.000000  770.500000  776.250000  772.130005   3301000   \n",
      "2016-12-29  773.400024  760.849976  772.400024  765.150024   3158300   \n",
      "2016-12-30  767.400024  748.280029  766.469971  749.869995   4139400   \n",
      "\n",
      "             Adj Close  \n",
      "Date                    \n",
      "2007-01-03   38.700001  \n",
      "2007-01-04   38.900002  \n",
      "2007-01-05   38.369999  \n",
      "2007-01-08   37.500000  \n",
      "2007-01-09   37.779999  \n",
      "...                ...  \n",
      "2016-12-23  760.590027  \n",
      "2016-12-27  771.400024  \n",
      "2016-12-28  772.130005  \n",
      "2016-12-29  765.150024  \n",
      "2016-12-30  749.869995  \n",
      "\n",
      "[2518 rows x 6 columns]\n"
     ]
    }
   ],
   "source": [
    "SBO = web.DataReader(\"AMZN\",'yahoo',start_date,end_date)\n",
    "print(SBO)"
   ]
  },
  {
   "cell_type": "code",
   "execution_count": 11,
   "metadata": {},
   "outputs": [],
   "source": [
    "SBO['MovingAverage'] = SBO.Close.rolling(window=number_of_days).mean()\n",
    "SBO['DailyDifference']= SBO['High'] - SBO['Low']\n",
    "SBO['DailyVolatility']= SBO.DailyDifference.rolling(window=number_of_days).mean()"
   ]
  },
  {
   "cell_type": "code",
   "execution_count": 12,
   "metadata": {},
   "outputs": [
    {
     "name": "stdout",
     "output_type": "stream",
     "text": [
      "                  High         Low        Open       Close    Volume  \\\n",
      "Date                                                                   \n",
      "2007-01-03   39.060001   38.049999   38.680000   38.700001  12405100   \n",
      "2007-01-04   39.139999   38.259998   38.590000   38.900002   6318400   \n",
      "2007-01-05   38.790001   37.599998   38.720001   38.369999   6619700   \n",
      "2007-01-08   38.310001   37.169998   38.220001   37.500000   6783000   \n",
      "2007-01-09   38.060001   37.340000   37.599998   37.779999   5703000   \n",
      "...                ...         ...         ...         ...       ...   \n",
      "2016-12-23  766.500000  757.989990  764.549988  760.590027   1981600   \n",
      "2016-12-27  774.650024  761.200012  763.400024  771.400024   2638700   \n",
      "2016-12-28  780.000000  770.500000  776.250000  772.130005   3301000   \n",
      "2016-12-29  773.400024  760.849976  772.400024  765.150024   3158300   \n",
      "2016-12-30  767.400024  748.280029  766.469971  749.869995   4139400   \n",
      "\n",
      "             Adj Close  MovingAverage  DailyDifference  DailyVolatility  \n",
      "Date                                                                     \n",
      "2007-01-03   38.700001            NaN         1.010002              NaN  \n",
      "2007-01-04   38.900002            NaN         0.880001              NaN  \n",
      "2007-01-05   38.369999            NaN         1.190002              NaN  \n",
      "2007-01-08   37.500000            NaN         1.140003              NaN  \n",
      "2007-01-09   37.779999            NaN         0.720001              NaN  \n",
      "...                ...            ...              ...              ...  \n",
      "2016-12-23  760.590027      730.32880         8.510010        11.602849  \n",
      "2016-12-27  771.400024      731.31895        13.450012        11.600899  \n",
      "2016-12-28  772.130005      732.29450         9.500000        11.575799  \n",
      "2016-12-29  765.150024      733.24890        12.550049        11.587649  \n",
      "2016-12-30  749.869995      734.20105        19.119995        11.601299  \n",
      "\n",
      "[2518 rows x 9 columns]\n"
     ]
    },
    {
     "data": {
      "image/png": "[encoded data removed]",
      "text/plain": [
       "<Figure size 432x288 with 1 Axes>"
      ]
     },
     "metadata": {
      "needs_background": "light"
     },
     "output_type": "display_data"
    }
   ],
   "source": [
    "SBO['MovingAverage'].plot()\n",
    "print(SBO)"
   ]
  },
  {
   "cell_type": "code",
   "execution_count": 20,
   "metadata": {},
   "outputs": [],
   "source": [
    "cp = alphien.data.getHistoryData('AMZN.US Equity', zoom='2007::2016')\n",
    "px = alphien.tutorial.emaCrossSelect(cp, longMa=200, shortMa=15, longOnly=True)"
   ]
  },
  {
   "cell_type": "code",
   "execution_count": null,
   "metadata": {},
   "outputs": [],
   "source": [
    "px.head(50)"
   ]
  },
  {
   "cell_type": "code",
   "execution_count": null,
   "metadata": {},
   "outputs": [],
   "source": []
  },
  {
   "cell_type": "code",
   "execution_count": null,
   "metadata": {},
   "outputs": [],
   "source": []
  },
  {
   "cell_type": "code",
   "execution_count": null,
   "metadata": {},
   "outputs": [],
   "source": []
  },
  {
   "cell_type": "code",
   "execution_count": null,
   "metadata": {},
   "outputs": [],
   "source": []
  },
  {
   "cell_type": "code",
   "execution_count": 62,
   "metadata": {},
   "outputs": [],
   "source": []
  },
  {
   "cell_type": "code",
   "execution_count": null,
   "metadata": {},
   "outputs": [],
   "source": []
  },
  {
   "cell_type": "code",
   "execution_count": null,
   "metadata": {},
   "outputs": [],
   "source": []
  },
  {
   "cell_type": "code",
   "execution_count": 104,
   "metadata": {},
   "outputs": [
    {
     "name": "stdout",
     "output_type": "stream",
     "text": [
      "767.4000244140625\n"
     ]
    }
   ],
   "source": [
    "print(SBO.iloc[SBO.index.get_loc('2016-12-30')]['High'])"
   ]
  },
  {
   "cell_type": "code",
   "execution_count": 105,
   "metadata": {},
   "outputs": [
    {
     "data": {
      "text/plain": [
       "High               9.043000e+01\n",
       "Low                8.915000e+01\n",
       "Open               8.937000e+01\n",
       "Close              8.985000e+01\n",
       "Volume             5.329500e+06\n",
       "Adj Close          8.985000e+01\n",
       "MovingAverage      6.221690e+01\n",
       "DailyDifference    1.279999e+00\n",
       "DailyVolatility    2.234667e+00\n",
       "Name: 2007-10-18 00:00:00, dtype: float64"
      ]
     },
     "execution_count": 105,
     "metadata": {},
     "output_type": "execute_result"
    }
   ],
   "source": [
    "SBO.iloc[200]"
   ]
  },
  {
   "cell_type": "code",
   "execution_count": null,
   "metadata": {},
   "outputs": [],
   "source": [
    "strength_stability_function"
   ]
  },
  {
   "cell_type": "code",
   "execution_count": 182,
   "metadata": {},
   "outputs": [],
   "source": [
    "t1 = alphien.data.getHistoryData(tkr, field = 'bb_live') #returns the Open, High, Low, Close for Microsoft stock"
   ]
  },
  {
   "cell_type": "code",
   "execution_count": 183,
   "metadata": {},
   "outputs": [
    {
     "data": {
      "text/plain": [
       "<matplotlib.axes._subplots.AxesSubplot at 0x7f1213a86ef0>"
      ]
     },
     "execution_count": 183,
     "metadata": {},
     "output_type": "execute_result"
    },
    {
     "data": {
      "image/png": "[encoded data removed]",
      "text/plain": [
       "<Figure size 432x288 with 1 Axes>"
      ]
     },
     "metadata": {
      "needs_background": "light"
     },
     "output_type": "display_data"
    }
   ],
   "source": [
    " t1.plot()"
   ]
  },
  {
   "cell_type": "code",
   "execution_count": null,
   "metadata": {},
   "outputs": [],
   "source": []
  }
 ],
 "metadata": {
  "kernelspec": {
   "display_name": "Python 3",
   "language": "python",
   "name": "python3"
  },
  "language_info": {
   "codemirror_mode": {
    "name": "ipython",
    "version": 3
   },
   "file_extension": ".py",
   "mimetype": "text/x-python",
   "name": "python",
   "nbconvert_exporter": "python",
   "pygments_lexer": "ipython3",
   "version": "3.6.7"
  }
 },
 "nbformat": 4,
 "nbformat_minor": 4
}
